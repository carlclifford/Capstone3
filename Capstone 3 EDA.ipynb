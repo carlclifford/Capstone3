{
 "cells": [
  {
   "cell_type": "code",
   "execution_count": 1,
   "id": "blessed-essay",
   "metadata": {},
   "outputs": [
    {
     "name": "stderr",
     "output_type": "stream",
     "text": [
      "C:\\Users\\carl_\\anaconda3\\lib\\site-packages\\IPython\\core\\interactiveshell.py:3147: DtypeWarning: Columns (2) have mixed types.Specify dtype option on import or set low_memory=False.\n",
      "  interactivity=interactivity, compiler=compiler, result=result)\n"
     ]
    }
   ],
   "source": [
    "import pandas as pd\n",
    "import numpy as np\n",
    "\n",
    "#keep these handy\n",
    "pd.set_option('display.max_rows', None)\n",
    "pd.set_option('display.max_columns', None)\n",
    "pd.set_option('display.width', None)\n",
    "pd.set_option('display.max_colwidth', None)\n",
    "\n",
    "\n",
    "\n",
    "df = pd.read_csv('wrangled.csv')\n"
   ]
  },
  {
   "cell_type": "markdown",
   "id": "legislative-karma",
   "metadata": {},
   "source": [
    "As we had a lot of EDA mixed in with our Data Wrangling and know the fields we will be using to feed our model, there is not a lot of additional EDA needed.\n",
    "We will run Sweetviz to see what it shows"
   ]
  },
  {
   "cell_type": "code",
   "execution_count": 2,
   "id": "honey-tuition",
   "metadata": {},
   "outputs": [],
   "source": [
    "import sweetviz"
   ]
  },
  {
   "cell_type": "code",
   "execution_count": 3,
   "id": "professional-shame",
   "metadata": {},
   "outputs": [],
   "source": [
    "#Add a value to see if the stock went up the next day\n",
    "\n",
    "df['up'] = np.where(df['next_day_diff'] > 0, 1,0)"
   ]
  },
  {
   "cell_type": "code",
   "execution_count": 4,
   "id": "recorded-chase",
   "metadata": {},
   "outputs": [
    {
     "data": {
      "text/plain": [
       "0    18883\n",
       "1    18405\n",
       "Name: up, dtype: int64"
      ]
     },
     "execution_count": 4,
     "metadata": {},
     "output_type": "execute_result"
    }
   ],
   "source": [
    "df['up'].value_counts()"
   ]
  },
  {
   "cell_type": "code",
   "execution_count": 5,
   "id": "expressed-magic",
   "metadata": {},
   "outputs": [
    {
     "data": {
      "application/vnd.jupyter.widget-view+json": {
       "model_id": "e59ebc572423422ebf37e575f7c82990",
       "version_major": 2,
       "version_minor": 0
      },
      "text/plain": [
       "                                             |                                             | [  0%]   00:00 ->…"
      ]
     },
     "metadata": {},
     "output_type": "display_data"
    }
   ],
   "source": [
    "report = sweetviz.analyze([df, \"Train\"], \n",
    "target_feat='up')"
   ]
  },
  {
   "cell_type": "code",
   "execution_count": 6,
   "id": "reasonable-origin",
   "metadata": {},
   "outputs": [
    {
     "name": "stdout",
     "output_type": "stream",
     "text": [
      "Report SWEETVIZ_REPORT.html was generated! NOTEBOOK/COLAB USERS: the web browser MAY not pop up, regardless, the report IS saved in your notebook/colab files.\n"
     ]
    }
   ],
   "source": [
    "report.show_html()"
   ]
  }
 ],
 "metadata": {
  "kernelspec": {
   "display_name": "Python 3",
   "language": "python",
   "name": "python3"
  },
  "language_info": {
   "codemirror_mode": {
    "name": "ipython",
    "version": 3
   },
   "file_extension": ".py",
   "mimetype": "text/x-python",
   "name": "python",
   "nbconvert_exporter": "python",
   "pygments_lexer": "ipython3",
   "version": "3.7.9"
  }
 },
 "nbformat": 4,
 "nbformat_minor": 5
}
