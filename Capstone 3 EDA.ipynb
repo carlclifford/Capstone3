{
 "cells": [
  {
   "cell_type": "code",
   "execution_count": 4,
   "id": "complete-medication",
   "metadata": {},
   "outputs": [
    {
     "name": "stderr",
     "output_type": "stream",
     "text": [
      "C:\\Users\\carl_\\anaconda3\\lib\\site-packages\\IPython\\core\\interactiveshell.py:3147: DtypeWarning: Columns (2) have mixed types.Specify dtype option on import or set low_memory=False.\n",
      "  interactivity=interactivity, compiler=compiler, result=result)\n"
     ]
    }
   ],
   "source": [
    "import pandas as pd\n",
    "import numpy as np\n",
    "\n",
    "#keep these handy\n",
    "pd.set_option('display.max_rows', None)\n",
    "pd.set_option('display.max_columns', None)\n",
    "pd.set_option('display.width', None)\n",
    "pd.set_option('display.max_colwidth', None)\n",
    "\n",
    "\n",
    "\n",
    "df = pd.read_csv('wrangled.csv')\n"
   ]
  },
  {
   "cell_type": "markdown",
   "id": "working-bridge",
   "metadata": {},
   "source": [
    "As we know the fields we will be using to feed our model, there is not a lot of EDA needed.\n",
    "We will run Sweetviz to see what it shows"
   ]
  },
  {
   "cell_type": "code",
   "execution_count": 1,
   "id": "temporal-region",
   "metadata": {},
   "outputs": [
    {
     "name": "stdout",
     "output_type": "stream",
     "text": [
      "^C\n",
      "Note: you may need to restart the kernel to use updated packages.\n"
     ]
    }
   ],
   "source": [
    "pip uninstall sweetviz"
   ]
  },
  {
   "cell_type": "code",
   "execution_count": 2,
   "id": "anticipated-snapshot",
   "metadata": {},
   "outputs": [
    {
     "name": "stdout",
     "output_type": "stream",
     "text": [
      "Requirement already satisfied: sweetviz==2.1.3 in c:\\users\\carl_\\anaconda3\\lib\\site-packages (2.1.3)\n",
      "Requirement already satisfied: pandas!=1.0.0,!=1.0.1,!=1.0.2,>=0.25.3 in c:\\users\\carl_\\anaconda3\\lib\\site-packages (from sweetviz==2.1.3) (1.2.0)\n",
      "Requirement already satisfied: scipy>=1.3.2 in c:\\users\\carl_\\anaconda3\\lib\\site-packages (from sweetviz==2.1.3) (1.5.2)\n",
      "Requirement already satisfied: matplotlib>=3.1.3 in c:\\users\\carl_\\anaconda3\\lib\\site-packages (from sweetviz==2.1.3) (3.3.2)\n",
      "Requirement already satisfied: tqdm>=4.43.0 in c:\\users\\carl_\\anaconda3\\lib\\site-packages (from sweetviz==2.1.3) (4.55.1)\n",
      "Requirement already satisfied: jinja2>=2.11.1 in c:\\users\\carl_\\anaconda3\\lib\\site-packages (from sweetviz==2.1.3) (2.11.2)\n",
      "Requirement already satisfied: importlib-resources>=1.2.0 in c:\\users\\carl_\\anaconda3\\lib\\site-packages (from sweetviz==2.1.3) (5.1.2)\n",
      "Requirement already satisfied: numpy>=1.16.0 in c:\\users\\carl_\\anaconda3\\lib\\site-packages (from sweetviz==2.1.3) (1.19.2)\n",
      "Requirement already satisfied: zipp>=0.4 in c:\\users\\carl_\\anaconda3\\lib\\site-packages (from importlib-resources>=1.2.0->sweetviz==2.1.3) (3.4.0)\n",
      "Requirement already satisfied: MarkupSafe>=0.23 in c:\\users\\carl_\\anaconda3\\lib\\site-packages (from jinja2>=2.11.1->sweetviz==2.1.3) (1.1.1)\n",
      "Requirement already satisfied: cycler>=0.10 in c:\\users\\carl_\\anaconda3\\lib\\site-packages (from matplotlib>=3.1.3->sweetviz==2.1.3) (0.10.0)\n",
      "Requirement already satisfied: python-dateutil>=2.1 in c:\\users\\carl_\\anaconda3\\lib\\site-packages (from matplotlib>=3.1.3->sweetviz==2.1.3) (2.8.1)\n",
      "Requirement already satisfied: pyparsing!=2.0.4,!=2.1.2,!=2.1.6,>=2.0.3 in c:\\users\\carl_\\anaconda3\\lib\\site-packages (from matplotlib>=3.1.3->sweetviz==2.1.3) (2.4.7)\n",
      "Requirement already satisfied: pillow>=6.2.0 in c:\\users\\carl_\\anaconda3\\lib\\site-packages (from matplotlib>=3.1.3->sweetviz==2.1.3) (8.1.0)\n",
      "Requirement already satisfied: kiwisolver>=1.0.1 in c:\\users\\carl_\\anaconda3\\lib\\site-packages (from matplotlib>=3.1.3->sweetviz==2.1.3) (1.3.0)\n",
      "Requirement already satisfied: certifi>=2020.06.20 in c:\\users\\carl_\\anaconda3\\lib\\site-packages (from matplotlib>=3.1.3->sweetviz==2.1.3) (2020.6.20)\n",
      "Requirement already satisfied: six in c:\\users\\carl_\\anaconda3\\lib\\site-packages (from cycler>=0.10->matplotlib>=3.1.3->sweetviz==2.1.3) (1.15.0)\n",
      "Requirement already satisfied: pytz>=2017.3 in c:\\users\\carl_\\anaconda3\\lib\\site-packages (from pandas!=1.0.0,!=1.0.1,!=1.0.2,>=0.25.3->sweetviz==2.1.3) (2020.5)\n",
      "Note: you may need to restart the kernel to use updated packages.\n"
     ]
    }
   ],
   "source": [
    "pip install sweetviz==2.1.3"
   ]
  },
  {
   "cell_type": "code",
   "execution_count": 3,
   "id": "blocked-treaty",
   "metadata": {},
   "outputs": [],
   "source": [
    "import sweetviz"
   ]
  },
  {
   "cell_type": "code",
   "execution_count": 5,
   "id": "amateur-individual",
   "metadata": {},
   "outputs": [],
   "source": [
    "#Add a value to see if the stock went up the next day\n",
    "\n",
    "df['up'] = np.where(df['next_day_diff'] > 0, 1,0)"
   ]
  },
  {
   "cell_type": "code",
   "execution_count": 6,
   "id": "legal-sharing",
   "metadata": {},
   "outputs": [
    {
     "data": {
      "text/plain": [
       "0    25417\n",
       "1    24895\n",
       "Name: up, dtype: int64"
      ]
     },
     "execution_count": 6,
     "metadata": {},
     "output_type": "execute_result"
    }
   ],
   "source": [
    "df['up'].value_counts()"
   ]
  },
  {
   "cell_type": "code",
   "execution_count": 7,
   "id": "structural-rotation",
   "metadata": {},
   "outputs": [
    {
     "data": {
      "application/vnd.jupyter.widget-view+json": {
       "model_id": "fe0fd10a8d144afd89e023c0a9b141cd",
       "version_major": 2,
       "version_minor": 0
      },
      "text/plain": [
       "                                             |                                             | [  0%]   00:00 ->…"
      ]
     },
     "metadata": {},
     "output_type": "display_data"
    }
   ],
   "source": [
    "report = sweetviz.analyze([df, \"Train\"], \n",
    "target_feat='up')"
   ]
  },
  {
   "cell_type": "code",
   "execution_count": 10,
   "id": "labeled-occasion",
   "metadata": {},
   "outputs": [
    {
     "name": "stdout",
     "output_type": "stream",
     "text": [
      "Report SWEETVIZ_REPORT.html was generated! NOTEBOOK/COLAB USERS: the web browser MAY not pop up, regardless, the report IS saved in your notebook/colab files.\n"
     ]
    }
   ],
   "source": [
    "report.show_html()"
   ]
  }
 ],
 "metadata": {
  "kernelspec": {
   "display_name": "Python 3",
   "language": "python",
   "name": "python3"
  },
  "language_info": {
   "codemirror_mode": {
    "name": "ipython",
    "version": 3
   },
   "file_extension": ".py",
   "mimetype": "text/x-python",
   "name": "python",
   "nbconvert_exporter": "python",
   "pygments_lexer": "ipython3",
   "version": "3.7.9"
  }
 },
 "nbformat": 4,
 "nbformat_minor": 5
}
